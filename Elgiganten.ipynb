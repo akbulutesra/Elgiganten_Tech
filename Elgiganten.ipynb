{
 "cells": [
  {
   "cell_type": "code",
   "execution_count": 7,
   "id": "parallel-monthly",
   "metadata": {},
   "outputs": [],
   "source": [
    "import requests"
   ]
  },
  {
   "cell_type": "code",
   "execution_count": 8,
   "id": "subjective-guitar",
   "metadata": {},
   "outputs": [],
   "source": [
    "from bs4 import BeautifulSoup\n",
    "import logging"
   ]
  },
  {
   "cell_type": "code",
   "execution_count": 9,
   "id": "grateful-ranking",
   "metadata": {},
   "outputs": [],
   "source": [
    "import cloudscraper"
   ]
  },
  {
   "cell_type": "code",
   "execution_count": 10,
   "id": "modular-opera",
   "metadata": {},
   "outputs": [],
   "source": [
    "scraper = cloudscraper.create_scraper()"
   ]
  },
  {
   "cell_type": "code",
   "execution_count": 11,
   "id": "reliable-latino",
   "metadata": {},
   "outputs": [],
   "source": [
    "BASE_PATH = \"https://www.elgiganten.se\""
   ]
  },
  {
   "cell_type": "code",
   "execution_count": 13,
   "id": "balanced-commercial",
   "metadata": {},
   "outputs": [],
   "source": [
    "page = requests.get(BASE_PATH)"
   ]
  },
  {
   "cell_type": "code",
   "execution_count": 15,
   "id": "completed-search",
   "metadata": {},
   "outputs": [],
   "source": [
    "soup = BeautifulSoup(page.text, 'html.parser')"
   ]
  },
  {
   "cell_type": "code",
   "execution_count": 16,
   "id": "challenging-helena",
   "metadata": {},
   "outputs": [],
   "source": [
    "tabs = soup.findAll(\"a\", {\"class\": \"top-menu-link\"})"
   ]
  },
  {
   "cell_type": "code",
   "execution_count": 17,
   "id": "hollow-draft",
   "metadata": {},
   "outputs": [
    {
     "data": {
      "text/plain": [
       "[<a class=\"top-menu-link any-1-1 M-6-7 S-5-6\" href=\"https://www.elgiganten.se/catalog/se_foretagsforsaljning/till-elgiganten-foretag\">Till Elgiganten Företag</a>,\n",
       " <a class=\"top-menu-link any-1-1 M-6-7 S-5-6\" href=\"https://www.elgiganten.se/catalog/se_datorer_tillbehor/datorer-tillbehor\">Datorer &amp; Tillbehör</a>,\n",
       " <a class=\"top-menu-link any-1-1 M-6-7 S-5-6\" href=\"https://www.elgiganten.se/catalog/se-tv-bild/tv-bild\">TV &amp; Bild</a>,\n",
       " <a class=\"top-menu-link any-1-1 M-6-7 S-5-6\" href=\"https://www.elgiganten.se/catalog/se-ljud-hifi/ljud-hifi\">Ljud &amp; HiFi</a>,\n",
       " <a class=\"top-menu-link any-1-1 M-6-7 S-5-6\" href=\"https://www.elgiganten.se/catalog/se_mobil_tele_gps/mobil-tele-gps\">Mobil, Tele &amp; GPS</a>,\n",
       " <a class=\"top-menu-link any-1-1 M-6-7 S-5-6\" href=\"https://www.elgiganten.se/catalog/se-gaming/gaming\">Gaming</a>,\n",
       " <a class=\"top-menu-link any-1-1 M-6-7 S-5-6\" href=\"https://www.elgiganten.se/catalog/se_vitvaror/vitvaror\">Vitvaror</a>,\n",
       " <a class=\"top-menu-link any-1-1 M-6-7 S-5-6\" href=\"https://www.elgiganten.se/catalog/se_hem_hushall/hem-och-hushall\">Hem och Hushåll</a>,\n",
       " <a class=\"top-menu-link any-1-1 M-6-7 S-5-6\" href=\"https://www.elgiganten.se/catalog/se-kok-tvattstuga-garderob/kok-tvattstuga-och-garderob\">Kök, tvättstuga och garderob</a>,\n",
       " <a class=\"top-menu-link any-1-1 M-6-7 S-5-6\" href=\"https://www.elgiganten.se/catalog/se-personvard/personvard\">Personvård</a>,\n",
       " <a class=\"top-menu-link any-1-1 M-6-7 S-5-6\" href=\"https://www.elgiganten.se/catalog/se-wearables-traning/wearables-och-traning\">Wearables och träning</a>,\n",
       " <a class=\"top-menu-link any-1-1 M-6-7 S-5-6\" href=\"https://www.elgiganten.se/catalog/se_foto_video/foto-video\">Foto &amp; Video</a>,\n",
       " <a class=\"top-menu-link any-1-1 M-6-7 S-5-6\" href=\"https://www.elgiganten.se/catalog/se-smart-home/smart-hem\">Smart Hem</a>,\n",
       " <a class=\"top-menu-link any-1-1 M-6-7 S-5-6\" href=\"https://www.elgiganten.se/catalog/se-leksaker-hobby/leksaker-och-hobby\">Leksaker och Hobby</a>,\n",
       " <a class=\"top-menu-link any-1-1 M-6-7 S-5-6\" href=\"https://www.elgiganten.se/catalog/se-tjanster/tjanster\">Tjänster</a>,\n",
       " <a class=\"top-menu-link any-1-1 M-6-7 S-5-6\" href=\"https://www.elgiganten.se/catalog/outlet-fyndvaror/outlet\">Outlet</a>,\n",
       " <a class=\"top-menu-link any-1-1 M-6-7 S-5-6\" href=\"https://www.elgiganten.se/catalog/kundklubben/kundklubb\">Kundklubb</a>]"
      ]
     },
     "execution_count": 17,
     "metadata": {},
     "output_type": "execute_result"
    }
   ],
   "source": [
    "tabs"
   ]
  },
  {
   "cell_type": "code",
   "execution_count": 18,
   "id": "intense-legend",
   "metadata": {},
   "outputs": [
    {
     "data": {
      "text/plain": [
       "bs4.element.ResultSet"
      ]
     },
     "execution_count": 18,
     "metadata": {},
     "output_type": "execute_result"
    }
   ],
   "source": [
    "type(tabs)"
   ]
  },
  {
   "cell_type": "code",
   "execution_count": 20,
   "id": "loaded-impression",
   "metadata": {},
   "outputs": [
    {
     "name": "stdout",
     "output_type": "stream",
     "text": [
      "Till Elgiganten Företag\n",
      "Datorer & Tillbehör\n",
      "TV & Bild\n",
      "Ljud & HiFi\n",
      "Mobil, Tele & GPS\n",
      "Gaming\n",
      "Vitvaror\n",
      "Hem och Hushåll\n",
      "Kök, tvättstuga och garderob\n",
      "Personvård\n",
      "Wearables och träning\n",
      "Foto & Video\n",
      "Smart Hem\n",
      "Leksaker och Hobby\n",
      "Tjänster\n",
      "Outlet\n",
      "Kundklubb\n"
     ]
    }
   ],
   "source": [
    "for tab in tabs:\n",
    "    print(tab.text)"
   ]
  },
  {
   "cell_type": "code",
   "execution_count": 23,
   "id": "handmade-biotechnology",
   "metadata": {},
   "outputs": [
    {
     "name": "stdout",
     "output_type": "stream",
     "text": [
      "https://www.elgiganten.se/catalog/se_foretagsforsaljning/till-elgiganten-foretag\n",
      "https://www.elgiganten.se/catalog/se_datorer_tillbehor/datorer-tillbehor\n",
      "https://www.elgiganten.se/catalog/se-tv-bild/tv-bild\n",
      "https://www.elgiganten.se/catalog/se-ljud-hifi/ljud-hifi\n",
      "https://www.elgiganten.se/catalog/se_mobil_tele_gps/mobil-tele-gps\n",
      "https://www.elgiganten.se/catalog/se-gaming/gaming\n",
      "https://www.elgiganten.se/catalog/se_vitvaror/vitvaror\n",
      "https://www.elgiganten.se/catalog/se_hem_hushall/hem-och-hushall\n",
      "https://www.elgiganten.se/catalog/se-kok-tvattstuga-garderob/kok-tvattstuga-och-garderob\n",
      "https://www.elgiganten.se/catalog/se-personvard/personvard\n",
      "https://www.elgiganten.se/catalog/se-wearables-traning/wearables-och-traning\n",
      "https://www.elgiganten.se/catalog/se_foto_video/foto-video\n",
      "https://www.elgiganten.se/catalog/se-smart-home/smart-hem\n",
      "https://www.elgiganten.se/catalog/se-leksaker-hobby/leksaker-och-hobby\n",
      "https://www.elgiganten.se/catalog/se-tjanster/tjanster\n",
      "https://www.elgiganten.se/catalog/outlet-fyndvaror/outlet\n",
      "https://www.elgiganten.se/catalog/kundklubben/kundklubb\n"
     ]
    }
   ],
   "source": [
    "for tab in tabs:\n",
    "    print (tab['href'])"
   ]
  },
  {
   "cell_type": "code",
   "execution_count": 26,
   "id": "difficult-theology",
   "metadata": {},
   "outputs": [],
   "source": [
    "page_tv = requests.get('https://www.elgiganten.se/catalog/se-tv-bild/tv-bild')"
   ]
  },
  {
   "cell_type": "code",
   "execution_count": 27,
   "id": "meaning-navigator",
   "metadata": {},
   "outputs": [],
   "source": [
    "soup = BeautifulSoup(page_tv.text, 'html.parser')"
   ]
  },
  {
   "cell_type": "code",
   "execution_count": 28,
   "id": "settled-singing",
   "metadata": {},
   "outputs": [],
   "source": [
    "subcategories = soup.findAll(\"div\", {\"class\": \"subcategory-link\"})"
   ]
  },
  {
   "cell_type": "code",
   "execution_count": 29,
   "id": "advised-claim",
   "metadata": {},
   "outputs": [
    {
     "data": {
      "text/plain": [
       "[<div class=\"subcategory-link\">\n",
       " <a href=\"https://www.elgiganten.se/catalog/tv-bild/se_tv/tv\">\n",
       " <span class=\"sub-image\"><span class=\"sub-image-inner\"><img alt=\"TV\" src=\"/is/image/tubby/meta-image-tv-tv?$cat_medium$\" title=\"TV\"/></span></span>\n",
       " <span class=\"sub-name\"><span class=\"table\"><span class=\"table-cell\"><span>TV</span></span></span></span>\n",
       " </a>\n",
       " </div>,\n",
       " <div class=\"subcategory-link\">\n",
       " <a href=\"https://www.elgiganten.se/catalog/ljud-hifi/se-soundbar/soundbar\">\n",
       " <span class=\"sub-image\"><span class=\"sub-image-inner\"><img alt=\"Soundbar\" src=\"/is/image/tubby/meta-sound-soundbar-l2?$cat_medium$\" title=\"Soundbar\"/></span></span>\n",
       " <span class=\"sub-name\"><span class=\"table\"><span class=\"table-cell\"><span>Soundbar</span></span></span></span>\n",
       " </a>\n",
       " </div>,\n",
       " <div class=\"subcategory-link\">\n",
       " <a href=\"https://www.elgiganten.se/catalog/tv-bild/se-blu-ray-dvd-spelare/blu-ray-och-dvd-spelare\">\n",
       " <span class=\"sub-image\"><span class=\"sub-image-inner\"><img alt=\"Blu-ray och DVD-spelare\" src=\"/is/image/tubby/meta-image-tv-bdvd?$cat_medium$\" title=\"Blu-ray och DVD-spelare\"/></span></span>\n",
       " <span class=\"sub-name\"><span class=\"table\"><span class=\"table-cell\"><span>Blu-ray och DVD-spelare</span></span></span></span>\n",
       " </a>\n",
       " </div>,\n",
       " <div class=\"subcategory-link\">\n",
       " <a href=\"https://www.elgiganten.se/catalog/tv-bild/se_projektor_projektorduk/projektor-och-projektorduk\">\n",
       " <span class=\"sub-image\"><span class=\"sub-image-inner\"><img alt=\"Projektor och Projektorduk\" src=\"/is/image/tubby/meta-image-tv-projector?$cat_medium$\" title=\"Projektor och Projektorduk\"/></span></span>\n",
       " <span class=\"sub-name\"><span class=\"table\"><span class=\"table-cell\"><span>Projektor och Projektorduk</span></span></span></span>\n",
       " </a>\n",
       " </div>,\n",
       " <div class=\"subcategory-link\">\n",
       " <a href=\"https://www.elgiganten.se/catalog/tv-bild/se-streaming-mediaspelare/streaming-och-mediaspelare\">\n",
       " <span class=\"sub-image\"><span class=\"sub-image-inner\"><img alt=\"Streaming och Mediaspelare\" src=\"/is/image/tubby/meta-image-tv-media?$cat_medium$\" title=\"Streaming och Mediaspelare\"/></span></span>\n",
       " <span class=\"sub-name\"><span class=\"table\"><span class=\"table-cell\"><span>Streaming och Mediaspelare</span></span></span></span>\n",
       " </a>\n",
       " </div>,\n",
       " <div class=\"subcategory-link\">\n",
       " <a href=\"https://www.elgiganten.se/catalog/tv-bild/se_digitalbox_abonnemang/digitalbox-abonnemang\">\n",
       " <span class=\"sub-image\"><span class=\"sub-image-inner\"><img alt=\"Digitalbox &amp; Abonnemang\" src=\"/is/image/tubby/meta-image-tv-digitaltv?$cat_medium$\" title=\"Digitalbox &amp; Abonnemang\"/></span></span>\n",
       " <span class=\"sub-name\"><span class=\"table\"><span class=\"table-cell\"><span>Digitalbox &amp; Abonnemang</span></span></span></span>\n",
       " </a>\n",
       " </div>,\n",
       " <div class=\"subcategory-link\">\n",
       " <a href=\"https://www.elgiganten.se/catalog/tv-bild/se-vaggfaste-mobler-montering/vaggfaste-mobler-montering\">\n",
       " <span class=\"sub-image\"><span class=\"sub-image-inner\"><img alt=\"Väggfäste, möbler, montering\" src=\"/is/image/tubby/meta-image-tv-mount?$cat_medium$\" title=\"Väggfäste, möbler, montering\"/></span></span>\n",
       " <span class=\"sub-name\"><span class=\"table\"><span class=\"table-cell\"><span>Väggfäste, möbler, montering</span></span></span></span>\n",
       " </a>\n",
       " </div>,\n",
       " <div class=\"subcategory-link show-more btn-delete\">\n",
       " <span class=\"table\"><span class=\"table-cell\">Visa alla kategorier</span></span>\n",
       " </div>,\n",
       " <div class=\"subcategory-link\">\n",
       " <a href=\"https://www.elgiganten.se/catalog/tv-bild/se_antenn_parabol/antenn-och-parabol\">\n",
       " <span class=\"sub-image\"><span class=\"sub-image-inner\"><img alt=\"Antenn och Parabol\" src=\"/is/image/tubby/meta-image-tv-antenna?$cat_medium$\" title=\"Antenn och Parabol\"/></span></span>\n",
       " <span class=\"sub-name\"><span class=\"table\"><span class=\"table-cell\"><span>Antenn och Parabol</span></span></span></span>\n",
       " </a>\n",
       " </div>,\n",
       " <div class=\"subcategory-link\">\n",
       " <a href=\"https://www.elgiganten.se/catalog/tv-bild/se-kablar-adapters-tv-bild/kablar-och-adapters-tv-bild\">\n",
       " <span class=\"sub-image\"><span class=\"sub-image-inner\"><img alt=\"Kablar och adapters TV &amp; Bild\" src=\"/is/image/tubby/meta-image-tv-cables?$cat_medium$\" title=\"Kablar och adapters TV &amp; Bild\"/></span></span>\n",
       " <span class=\"sub-name\"><span class=\"table\"><span class=\"table-cell\"><span>Kablar och adapters TV &amp; Bild</span></span></span></span>\n",
       " </a>\n",
       " </div>,\n",
       " <div class=\"subcategory-link\">\n",
       " <a href=\"https://www.elgiganten.se/catalog/tv-bild/se-tillbehor-tv-bild/tillbehor-tv-bild\">\n",
       " <span class=\"sub-image\"><span class=\"sub-image-inner\"><img alt=\"Tillbehör TV &amp; Bild\" src=\"/is/image/tubby/meta-image-tv-accessories?$cat_medium$\" title=\"Tillbehör TV &amp; Bild\"/></span></span>\n",
       " <span class=\"sub-name\"><span class=\"table\"><span class=\"table-cell\"><span>Tillbehör TV &amp; Bild</span></span></span></span>\n",
       " </a>\n",
       " </div>,\n",
       " <div class=\"subcategory-link\">\n",
       " <a href=\"https://www.elgiganten.se/catalog/tv-bild/se-fjarrkontroll-tv-universal/universal-och-tv-fjarrkontroll\">\n",
       " <span class=\"sub-image\"><span class=\"sub-image-inner\"><img alt=\"Universal- och TV-fjärrkontroll\" src=\"/content/icon/navigation/cat-tv-image-remote-control.png?$cat_medium$\" title=\"Universal- och TV-fjärrkontroll\"/></span></span>\n",
       " <span class=\"sub-name\"><span class=\"table\"><span class=\"table-cell\"><span>Universal- och TV-fjärrkontroll</span></span></span></span>\n",
       " </a>\n",
       " </div>,\n",
       " <div class=\"subcategory-link\">\n",
       " <a href=\"https://www.elgiganten.se/catalog/tv-bild/se-filmer-serier/filmer-serier\">\n",
       " <span class=\"sub-image\"><span class=\"sub-image-inner\"><img alt=\"Filmer &amp; Serier\" src=\"/is/image/tubby/meta-movies-series-l1?$cat_medium$\" title=\"Filmer &amp; Serier\"/></span></span>\n",
       " <span class=\"sub-name\"><span class=\"table\"><span class=\"table-cell\"><span>Filmer &amp; Serier</span></span></span></span>\n",
       " </a>\n",
       " </div>,\n",
       " <div class=\"subcategory-link\">\n",
       " <a href=\"https://www.elgiganten.se/catalog/tv-bild/se-digital-signage/digital-signage\">\n",
       " <span class=\"sub-image\"><span class=\"sub-image-inner\"><img alt=\"Digital signage\" src=\"/is/image/tubby/meta-digital-signage-philips?$cat_medium$\" title=\"Digital signage\"/></span></span>\n",
       " <span class=\"sub-name\"><span class=\"table\"><span class=\"table-cell\"><span>Digital signage</span></span></span></span>\n",
       " </a>\n",
       " </div>,\n",
       " <div class=\"subcategory-link\">\n",
       " <a href=\"https://www.elgiganten.se/catalog/datorer-tillbehor/se-videokonferenssystem/videokonferenssystem\">\n",
       " <span class=\"sub-image\"><span class=\"sub-image-inner\"><img alt=\"Videokonferenssystem\" src=\"/content/icon/navigation/cat-tv-image-video-conference.png?$cat_medium$\" title=\"Videokonferenssystem\"/></span></span>\n",
       " <span class=\"sub-name\"><span class=\"table\"><span class=\"table-cell\"><span>Videokonferenssystem</span></span></span></span>\n",
       " </a>\n",
       " </div>,\n",
       " <div class=\"subcategory-link\">\n",
       " <a href=\"https://www.elgiganten.se/catalog/hem-och-hushall/se-batterier/batterier\">\n",
       " <span class=\"sub-image\"><span class=\"sub-image-inner\"><img alt=\"Batterier\" src=\"/content/icon/navigation/cat-batteries.png?$cat_medium$\" title=\"Batterier\"/></span></span>\n",
       " <span class=\"sub-name\"><span class=\"table\"><span class=\"table-cell\"><span>Batterier</span></span></span></span>\n",
       " </a>\n",
       " </div>,\n",
       " <div class=\"subcategory-link\">\n",
       " <a href=\"https://www.elgiganten.se/catalog/outlet/outlet-tv-bild/tv-bild-fyndvaror\">\n",
       " <span class=\"sub-image\"><span class=\"sub-image-inner\"><img alt=\"TV &amp; Bild - Fyndvaror\" src=\"/content/icon/navigation/cat-outlet-tv.png?$cat_medium$\" title=\"TV &amp; Bild - Fyndvaror\"/></span></span>\n",
       " <span class=\"sub-name\"><span class=\"table\"><span class=\"table-cell\"><span>TV &amp; Bild - Fyndvaror</span></span></span></span>\n",
       " </a>\n",
       " </div>]"
      ]
     },
     "execution_count": 29,
     "metadata": {},
     "output_type": "execute_result"
    }
   ],
   "source": [
    "subcategories"
   ]
  },
  {
   "cell_type": "code",
   "execution_count": 31,
   "id": "studied-routine",
   "metadata": {},
   "outputs": [
    {
     "name": "stdout",
     "output_type": "stream",
     "text": [
      "TV\n",
      "Soundbar\n",
      "Blu-ray och DVD-spelare\n",
      "Projektor och Projektorduk\n",
      "Streaming och Mediaspelare\n",
      "Digitalbox & Abonnemang\n",
      "Väggfäste, möbler, montering\n",
      "Visa alla kategorier\n",
      "Antenn och Parabol\n",
      "Kablar och adapters TV & Bild\n",
      "Tillbehör TV & Bild\n",
      "Universal- och TV-fjärrkontroll\n",
      "Filmer & Serier\n",
      "Digital signage\n",
      "Videokonferenssystem\n",
      "Batterier\n",
      "TV & Bild - Fyndvaror\n"
     ]
    }
   ],
   "source": [
    "for tab in subcategories:\n",
    "    print(tab.text.strip())"
   ]
  },
  {
   "cell_type": "code",
   "execution_count": 51,
   "id": "formal-socket",
   "metadata": {},
   "outputs": [
    {
     "name": "stdout",
     "output_type": "stream",
     "text": [
      "https://www.elgiganten.se/catalog/tv-bild/se_tv/tv\n",
      "https://www.elgiganten.se/catalog/ljud-hifi/se-soundbar/soundbar\n",
      "https://www.elgiganten.se/catalog/tv-bild/se-blu-ray-dvd-spelare/blu-ray-och-dvd-spelare\n",
      "https://www.elgiganten.se/catalog/tv-bild/se_projektor_projektorduk/projektor-och-projektorduk\n",
      "https://www.elgiganten.se/catalog/tv-bild/se-streaming-mediaspelare/streaming-och-mediaspelare\n",
      "https://www.elgiganten.se/catalog/tv-bild/se_digitalbox_abonnemang/digitalbox-abonnemang\n",
      "https://www.elgiganten.se/catalog/tv-bild/se-vaggfaste-mobler-montering/vaggfaste-mobler-montering\n",
      "https://www.elgiganten.se/catalog/tv-bild/se_antenn_parabol/antenn-och-parabol\n",
      "https://www.elgiganten.se/catalog/tv-bild/se-kablar-adapters-tv-bild/kablar-och-adapters-tv-bild\n",
      "https://www.elgiganten.se/catalog/tv-bild/se-tillbehor-tv-bild/tillbehor-tv-bild\n",
      "https://www.elgiganten.se/catalog/tv-bild/se-fjarrkontroll-tv-universal/universal-och-tv-fjarrkontroll\n",
      "https://www.elgiganten.se/catalog/tv-bild/se-filmer-serier/filmer-serier\n",
      "https://www.elgiganten.se/catalog/tv-bild/se-digital-signage/digital-signage\n",
      "https://www.elgiganten.se/catalog/datorer-tillbehor/se-videokonferenssystem/videokonferenssystem\n",
      "https://www.elgiganten.se/catalog/hem-och-hushall/se-batterier/batterier\n",
      "https://www.elgiganten.se/catalog/outlet/outlet-tv-bild/tv-bild-fyndvaror\n"
     ]
    }
   ],
   "source": [
    "for tab in subcategories:\n",
    "    if tab.findChild(\"a\"):\n",
    "       print (tab.findChild(\"a\")['href'])"
   ]
  },
  {
   "cell_type": "code",
   "execution_count": null,
   "id": "resident-junior",
   "metadata": {},
   "outputs": [],
   "source": []
  }
 ],
 "metadata": {
  "kernelspec": {
   "display_name": "Python 3",
   "language": "python",
   "name": "python3"
  },
  "language_info": {
   "codemirror_mode": {
    "name": "ipython",
    "version": 3
   },
   "file_extension": ".py",
   "mimetype": "text/x-python",
   "name": "python",
   "nbconvert_exporter": "python",
   "pygments_lexer": "ipython3",
   "version": "3.8.0"
  }
 },
 "nbformat": 4,
 "nbformat_minor": 5
}
